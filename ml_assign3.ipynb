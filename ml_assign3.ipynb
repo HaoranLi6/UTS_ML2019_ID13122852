{
  "nbformat": 4,
  "nbformat_minor": 0,
  "metadata": {
    "colab": {
      "name": "ml assign3",
      "provenance": [],
      "toc_visible": true,
      "include_colab_link": true
    },
    "kernelspec": {
      "name": "python3",
      "display_name": "Python 3"
    }
  },
  "cells": [
    {
      "cell_type": "markdown",
      "metadata": {
        "id": "view-in-github",
        "colab_type": "text"
      },
      "source": [
        "<a href=\"https://colab.research.google.com/github/HaoranLi6/UTS_ML2019_ID13122852/blob/master/ml_assign3.ipynb\" target=\"_parent\"><img src=\"https://colab.research.google.com/assets/colab-badge.svg\" alt=\"Open In Colab\"/></a>"
      ]
    },
    {
      "cell_type": "markdown",
      "metadata": {
        "id": "YcmBQmOt204W",
        "colab_type": "text"
      },
      "source": [
        "2513 Machine Learning Assignment 3\n",
        "\n",
        "Pitch and Plan for Solving a Domain Problem\n",
        "\n",
        "Student Name: Haoran Li\n",
        "\n",
        "Student ID: 13122852"
      ]
    },
    {
      "cell_type": "markdown",
      "metadata": {
        "id": "qfk30sr0FN0P",
        "colab_type": "text"
      },
      "source": [
        "# Project Title"
      ]
    },
    {
      "cell_type": "markdown",
      "metadata": {
        "id": "cNeDjWRWFSPB",
        "colab_type": "text"
      },
      "source": [
        "Intelligent recommendation system for Coles\n"
      ]
    },
    {
      "cell_type": "markdown",
      "metadata": {
        "id": "kJ4507lQFVCS",
        "colab_type": "text"
      },
      "source": [
        "#Aims and Objectives"
      ]
    },
    {
      "cell_type": "markdown",
      "metadata": {
        "id": "Nmgd6XyHFdeP",
        "colab_type": "text"
      },
      "source": [
        "## Aims"
      ]
    },
    {
      "cell_type": "markdown",
      "metadata": {
        "id": "Ahsno0umFhnX",
        "colab_type": "text"
      },
      "source": [
        "This project aims to adopt machine learning in building an intelligent recommendation system for Coles, which is the second-largest supermarket which has a 35% share of the grocery market in Australia. Besides, enhancing the competitive advantages of Coles and expanding its total market shares in Australia."
      ]
    },
    {
      "cell_type": "markdown",
      "metadata": {
        "id": "WEWmtVrh3aYU",
        "colab_type": "text"
      },
      "source": [
        "## Objectives"
      ]
    },
    {
      "cell_type": "markdown",
      "metadata": {
        "id": "39L8nCuT3elh",
        "colab_type": "text"
      },
      "source": [
        "To better achieve the project aims, setting detailed objectives is necessary. Five objectives of the research are shown below:\n",
        "1.\tAnalyze the current situation of the supermarket industry in Australia based on consumer data and build an intelligent recommendation system to increase sales.\n",
        "2.\tAnalyze the advantages and disadvantages of Coles and compare it with other supermarkets in Australia. \n",
        "3.\tMake available sales plans for Coles with the help of an intelligent recommendation system.\n",
        "4.  Validate and implement the recommendation system."
      ]
    },
    {
      "cell_type": "markdown",
      "metadata": {
        "id": "3YyGA2y_3kS5",
        "colab_type": "text"
      },
      "source": [
        "# Background"
      ]
    },
    {
      "cell_type": "markdown",
      "metadata": {
        "id": "VOtjrWw13nWd",
        "colab_type": "text"
      },
      "source": [
        "Coles supermarket is currently one of the biggest supermarkets, monopolies in Australia. However, it was just a small variety stored founded in 1914 by George James Coles, which formerly known as \"Coles Store.\" By 1973, Coles had established stores in all of Australia's capital cities. In 1991, the store was renamed Coles Supermarket and changed its name to Coles since 1998. And in September 2011, Coles began to sell its own brand of clothing in its own stores, while some stores were refurbished to fit the range.\n",
        " \n",
        "People like to buy daily necessities in Coles because things are very comprehensive and cheap. Coles has a wide range of products, including daily necessities, fruits and vegetables, meat, frozen foods, and even medicines and health foods. Moreover, Coles has its products such as milk, tissues and beverages. \n",
        " \n",
        "Coles Myer is listed on stock exchanges in Australia, London, New York, and New Zealand and has more than 544,700 shareholders. At the same time, Coles Myer is the largest non-governmental organization with more than 165,000 employees. Therefore, Coles could be treated as a large-scale enterprise. However, the strategies the company makes to expand the business of Coles seems not to affect. Figure 1 is the histogram of total Australian grocery market shares in 2017 and 2018. The diagram shows that the market shares of Coles decreased by 1.6 percent in 2018 compared with its market share in 2017. Moreover, the gap between Coles and Woolworth is getting wider in recent years.\n",
        "\n",
        "![替代文字](https://github.com/HaoranLi6/UTS_ML2019_ID13122852/blob/master/1.png?raw=true)\n",
        "\n",
        ">*(figure 1-total grocery market shares in Australia)*\n",
        "\n",
        "How to increase the market shares and narrow the gap becomes a crucial problem for Coles. A Facebook account called Brag’s had started a survey for the reader to find out compare Woolworths to Coles, which one is better. Out of 26,800 voters, over 17,000 have claimed Woolies is the superior supermarket. On the opposite side, 9,400 voters prefer Coles as a supermarket. The result shows that Woolworths seems to be the preferred supermarket. Existing product recommendation methods in Coles only include some advertisements online, leaflets and promotional emails. The teams of Coles want to find out the reason why Coles is not as preferred as Woolworths. Besides, they want to make available strategies and intelligent recommendation systems to increase the sales as well as the market share with the help of information technology."
      ]
    },
    {
      "cell_type": "markdown",
      "metadata": {
        "id": "wBsfXH4h4NhC",
        "colab_type": "text"
      },
      "source": [
        "# Research Project"
      ]
    },
    {
      "cell_type": "markdown",
      "metadata": {
        "id": "GisJHsDj4Sip",
        "colab_type": "text"
      },
      "source": [
        "## Significance"
      ]
    },
    {
      "cell_type": "markdown",
      "metadata": {
        "id": "851A_UKv4W-6",
        "colab_type": "text"
      },
      "source": [
        "This project aims to increase the market shares of Coles in the Australia grocery market. Therefore, the main significance of this project is to generate more profits for investors and stakeholders. The annual revenue of Coles in 2018 equals 39.3 billion dollars, while the total grocery revenue in Australia accounts for 110 billion dollars. If Coles is able to increase its market shares, the profit is considered within the current market.\n",
        " \n",
        "Coles is currently the second-largest supermarket in Australia, and the gap in the first place is about 6.4 percent, which is close. Therefore, it is possible for Coles to catch up and even surpass Woolworth if Coles makes available strategies. If machine learning could be adopted in this industry, the sales of Coles may have a good chance to rise due to the strong capabilities of machine learning in data analyzing, mining and predicting.\n",
        " \n",
        "Besides, building an intelligent recommendation system can help companies understand customers' consumption habits. Coles is more likely to recommend suitable products for target customers and produce their own brand products. Buying suppliers and foods are people's everyday needs. So if companies could provide customers with more personalized and accurate recommendation information through more purchase trends and customer data, the marketing activities of the business will become more accurate.\n",
        " \n",
        "Through machine learning technologies, Coles will be able to analyze consumer behavior and actions, as consumers enter the store to help consumers find the right products and the right offers. Through video analytics, retailers will be able to analyze which items consumers are viewing, even a part of the product packaging, whether it's price, features, or images. By analyzing these consumer purchase data, it is possible to provide retailers with the best advice for the products that consumers are most likely to purchase."
      ]
    },
    {
      "cell_type": "markdown",
      "metadata": {
        "id": "_IeV_X5e4ah9",
        "colab_type": "text"
      },
      "source": [
        "## Innovation"
      ]
    },
    {
      "cell_type": "markdown",
      "metadata": {
        "id": "lHVvpsEi4c5e",
        "colab_type": "text"
      },
      "source": [
        "The first innovation of this project is that machine learning technology will be applied to shopping in offline stores, especially for the retail industry. Using sensors, IoT, virtual reality, augmented reality, and wearable technology will not only provide consumers with a more convenient and fast shopping experience but also find more in-depth consumption for retailers' insights based on AI data analysis behind various new technologies. Moreover, machine learning could also personalized product recommendations based on each customer's uniqueness and purchasing propensity. Retailers will be able to analyze consumer behavior and actions as consumers enter the store, helping consumers find the right products and the right offers. Through video analytics, retailers will be able to analyze whether a consumer is viewing an item, or even a part of a package, whether it's price, function or image. By analyzing these consumer purchase data, it is possible to provide retailers with the best advice for the products that consumers are most likely to purchase. Customer value will also be drive greater because of the additional upsells choices and cross-sell options.\n",
        " \n",
        "Moreover, the second innovation is that machine learning could help Coles transform for the future. The transformation of retailing has begun due to the rapid development of machine learning and artificial intelligence. US retailer supply chain operations using data and data analytics have seen operating margins increased by 19% over the past five years. Use data analytics in pricing, categorization and placement optimization could help improve merchandise sales by 16%. Applying machine learning technology is the general trend worldwide, especially in the UK.  Retailers have been able to collect a large amount of transaction data and behavioral data from customers. Also, as data volumes and processing power increase, machine learning has become more widely used in the retail industry. Moreover, it further optimizing business processes and driving more influential personalized, contextual consumer experiences and products."
      ]
    },
    {
      "cell_type": "markdown",
      "metadata": {
        "id": "QXbvUZXE4fnJ",
        "colab_type": "text"
      },
      "source": [
        "# Project Plan"
      ]
    },
    {
      "cell_type": "markdown",
      "metadata": {
        "id": "wOTpnLjb4iyA",
        "colab_type": "text"
      },
      "source": [
        "The recommendation system has three essential modules: the user modeling module, the recommended object modeling module, and the recommended algorithm module. The recommendation system matches the interest demand information in the user model with the feature information in the recommended object model. So uses the corresponding recommendation algorithm to perform calculation and screening, finds the recommended object that the user may be interested in, and then recommends it to the user. It is expected to take about one year to complete the intelligent recommendation system. This project starts with collecting users’ data to provide information for the system building, which requires a different team of the company to participate."
      ]
    },
    {
      "cell_type": "markdown",
      "metadata": {
        "id": "VrWUU-nI4moJ",
        "colab_type": "text"
      },
      "source": [
        "## Data collection and exploration\n"
      ]
    },
    {
      "cell_type": "markdown",
      "metadata": {
        "id": "ky-Aifpk4pKn",
        "colab_type": "text"
      },
      "source": [
        "In order to analyze the consumption habits of customers, three kinds of data need to be collected in this stage. The three types of data include user’s consumption data, product information and sales data in Australia.\n",
        " \n",
        "The first type of data is the users’ consumption data shopping at Coles. A large volume of data of personal preference and demand is necessary to build an intelligent recommendation system. Gathering this kind of data could be complete by the marketing team through questionnaires, collecting the consumption records of Fly Buy members and analyzing the sales data. Besides, the IT team could acquire customer consumption data from the in-store app, such as the camera. This kind of data will show how long customers stay on a particular channel, providing targeted offers and recommendations based on personal consumption records and surrogate data. It would take about two months to gather the first type of data.\n",
        " \n",
        "The second type of data the product information of both Coles and Woolworth. Comparing the prices and brands of the products of them could help Coles better understand which kinds of products are popular among customers and fix more suitable prices for those products. The Coles marketing team could also collect this kind of information. Also, it would take 15 days. \n",
        " \n",
        "The last type of data that needs to gather at this stage is the sales data of the grocery industry in Australia. The sales data should be explored while the tendency and the market situation would be analyzed based on this kind of data. For this kind of data, the marketing team needs to collect data and the responsibilities of the IT team is to do data mining and exploration to find out the hidden business opportunities. Gathering this kind of data may take about 15 days."
      ]
    },
    {
      "cell_type": "markdown",
      "metadata": {
        "id": "Zo62pBAI5ISW",
        "colab_type": "text"
      },
      "source": [
        "## Building Model\n"
      ]
    },
    {
      "cell_type": "markdown",
      "metadata": {
        "id": "PVyPExKH5Mfb",
        "colab_type": "text"
      },
      "source": [
        "Building model is the most crucial stage of this project, which needs to be done by the IT team. This project main uses the Content-based Recommendation Algorithm to build an intelligent recommendation system. Steps of these stages are as shown below:"
      ]
    },
    {
      "cell_type": "markdown",
      "metadata": {
        "id": "bxZ4pdvH5WDb",
        "colab_type": "text"
      },
      "source": [
        "### Data Preprocessing"
      ]
    },
    {
      "cell_type": "markdown",
      "metadata": {
        "id": "Esh3efVe5PkT",
        "colab_type": "text"
      },
      "source": [
        "After data collection, the first thing that needs to do is do the data preprocess. The data quality should be ensured in this step, and the characteristics of high-quality data such as accuracy, timeliness, reliability, consistency, comprehensive, and so on need to be maintained. The format, value of data source, missing data, and wrong spelling of source data should all be identified at this step. The transaction, extraction, and loading of sources are also crucial at this stage. Python, KNIME, R-languages, or other data mining software could be applied at this stage.\n"
      ]
    },
    {
      "cell_type": "markdown",
      "metadata": {
        "id": "Yb1QeXEC5bGl",
        "colab_type": "text"
      },
      "source": [
        "### Build User Model"
      ]
    },
    {
      "cell_type": "markdown",
      "metadata": {
        "id": "pLxvC7Yq5iBT",
        "colab_type": "text"
      },
      "source": [
        "Through the user's past preferences, create a model for him or her. And we are based on this model to determine whether the user will like a new product. The main algorithm we use to build the system is the Content-based Recommendation Algorithm. Therefore, first find the k items that the user has preferred and most similar to these products, and then find users' degree of the preference for these new products according to the user's degree of preference for the k items. This step could be completed by calculating Euclidean distance and Vector Space Model(VSM)."
      ]
    },
    {
      "cell_type": "markdown",
      "metadata": {
        "id": "Ax7HtNuT5nlg",
        "colab_type": "text"
      },
      "source": [
        "### Build Intelligent Recommendation System"
      ]
    },
    {
      "cell_type": "markdown",
      "metadata": {
        "id": "2NLY-BzX5qU5",
        "colab_type": "text"
      },
      "source": [
        "By comparing the user model obtained in the previous step with the characteristics of the candidate item, a set of most relevant products is recommended for this user. Based on the content recommendation, there are two types: non-personalized and personalized, while different scenarios have different recommend ways. Building an intelligent recommendation system could be completed by creating user portrait through Python or other programming software."
      ]
    },
    {
      "cell_type": "markdown",
      "metadata": {
        "id": "goCm88zz5s1G",
        "colab_type": "text"
      },
      "source": [
        "## Testing and Evaluation\n"
      ]
    },
    {
      "cell_type": "markdown",
      "metadata": {
        "id": "VyMvRW7B5vi1",
        "colab_type": "text"
      },
      "source": [
        "After the establishment of the intelligent recommendation system, tests and evaluates of this system are necessary. The reason is that the system may have some hidden bugs that have not been recognized by the IT team. The test should be processed in two ways. The first way is to analyze new consumers' behavior and actions as consumers enter the store. And then analyzing whether a consumer is viewing an item, or even a part of a package, whether it is price, function or image through video. Moreover, they make recommendations for those customers. The second way is to make recommendations for Fly Buy members based on their previous consumption records through e-mails or other platforms. And check whether those recommendations meet their needs. This phase could be completed by the IT team and the marketing team."
      ]
    },
    {
      "cell_type": "markdown",
      "metadata": {
        "id": "BzsVb3tW5y7S",
        "colab_type": "text"
      },
      "source": [
        "## Trouble Shooting (If necessary)"
      ]
    },
    {
      "cell_type": "markdown",
      "metadata": {
        "id": "1AbmtJ_151lx",
        "colab_type": "text"
      },
      "source": [
        "After testing and evaluation, some errors or bugs might be identified. Therefore, in the phases, the IT team will spend time modifying the system."
      ]
    },
    {
      "cell_type": "markdown",
      "metadata": {
        "id": "3od7cBy9535R",
        "colab_type": "text"
      },
      "source": [
        "# Timeline"
      ]
    },
    {
      "cell_type": "markdown",
      "metadata": {
        "id": "fX8Njx0f7795",
        "colab_type": "text"
      },
      "source": [
        "![替代文字](https://github.com/HaoranLi6/UTS_ML2019_ID13122852/blob/master/Timeline.png?raw=true)\n",
        "\n",
        "\n",
        "> *(table 1- Timeline)*\n",
        "\n",
        "\n",
        "Table 1 is the timeline of this project, which shows that the project is expected to take about one year in total. There are seven phases of this project. It is worth mentioning that from phases one to six is all steps to build an intelligent recommendation system, which will take about 11 months to complete. In the seventh phase, troubleshooting is reserved if the system needs to be modified after testing and evaluation. Figure 2 is the Gantt chart for this project.\n",
        "\n",
        "![替代文字](https://github.com/HaoranLi6/UTS_ML2019_ID13122852/blob/master/gantt%20chart.png?raw=true)\n",
        "\n",
        "\n",
        "\n",
        ">*(figure 2- Gantt Chart)*\n",
        "\n",
        "\n",
        "\n",
        "\n",
        "\n"
      ]
    },
    {
      "cell_type": "markdown",
      "metadata": {
        "id": "aeWlw7_W86rd",
        "colab_type": "text"
      },
      "source": [
        "# Outcome"
      ]
    },
    {
      "cell_type": "markdown",
      "metadata": {
        "id": "h1pASDD38_DN",
        "colab_type": "text"
      },
      "source": [
        "After the one-year project, an intelligent recommendation system for Coles should be available and already in use. This system will be able to analyze consumer behavior and actions as consumers enter the store and help consumers find the right products and the right offers in a short time. If customers could buy products they prefer, their customer satisfaction of Coles will increase while the customer retention will increase as well. Even this project will cost about $39 million dollars, the sales and annual revenue will go up. The cost of Coles will reduce $1 billion dollars by using machine learning and other information technologies.\n",
        " \n",
        "Besides, if the sales of Coles are increased by implementing the intelligent recommendation system, the market shares of Coles will also rise. The reason is that market demand is fixed in Australia. The sales of Coles increase will lead to decreasing sales of other companies. Coles was in second place for a long time, applying machine learning into the business will help Coles to be the first."
      ]
    },
    {
      "cell_type": "markdown",
      "metadata": {
        "id": "im0IN6Ua9CUe",
        "colab_type": "text"
      },
      "source": [
        "# Budget"
      ]
    },
    {
      "cell_type": "markdown",
      "metadata": {
        "id": "ZnaUTKb_9EmN",
        "colab_type": "text"
      },
      "source": [
        "Figure 3 is the 2019 half-year financial report of Coles. From the report, we know that the 2019 half-year net capital expenditure of Coles equals to 390 million Australian dollars. Therefore, the budget of technology innovation may cost about 5% of net capital expenditure, which is about $19.5 million for a half.\n",
        "\n",
        "Therefore, the whole year budget for IT innovation might be $39 million.\n",
        "\n",
        "![替代文字](https://github.com/HaoranLi6/UTS_ML2019_ID13122852/blob/master/2.png?raw=true)\n",
        "\n",
        "\n",
        "> *(figure 3- Coles 2019 half year financial report)*\n"
      ]
    },
    {
      "cell_type": "markdown",
      "metadata": {
        "id": "Dit94NUU9IIT",
        "colab_type": "text"
      },
      "source": [
        "# Personnel\n"
      ]
    },
    {
      "cell_type": "markdown",
      "metadata": {
        "id": "n3VwgVEn-DRJ",
        "colab_type": "text"
      },
      "source": [
        "Three team are mainly participating in this project, project manager, the IT team and the marketing team. Details of the personnel are as shown below:\n",
        "\n",
        "![替代文字](https://github.com/HaoranLi6/UTS_ML2019_ID13122852/blob/master/Personnel.png?raw=true)\n"
      ]
    },
    {
      "cell_type": "markdown",
      "metadata": {
        "id": "jeLSGQ4Z-bRC",
        "colab_type": "text"
      },
      "source": [
        "# Reference\n"
      ]
    },
    {
      "cell_type": "markdown",
      "metadata": {
        "id": "Ed1JlBs5_exZ",
        "colab_type": "text"
      },
      "source": [
        "Nathan, G.2019, Woolies vs Coles: *Which supermarket is the superior choice*, The BRAG, viewed 6 October 2019, < https://thebrag.com/woolies-vs-coles/>.\n",
        "\n",
        "Roy, M. 2019, *Woolworths and Aldi grow grocery market share in 2018*, viewd 6 October 2019, < http://www.roymorgan.com/findings/7936-australian-grocery-market-december-2018-201904050426>.\n",
        "\n",
        "Ogedengbe, O.S. 2017, 'An investigation of multinational corporation management, on the example of “Nestle” Corporation”', Тернопільський національний технічний університет ім. Івана Пулюя."
      ]
    },
    {
      "cell_type": "markdown",
      "metadata": {
        "id": "9yn_gmu1_m7p",
        "colab_type": "text"
      },
      "source": [
        "# Appendix"
      ]
    },
    {
      "cell_type": "markdown",
      "metadata": {
        "id": "VyvbGFa8_rim",
        "colab_type": "text"
      },
      "source": [
        "## Budget Table\n",
        "\n",
        "![替代文字](https://github.com/HaoranLi6/UTS_ML2019_ID13122852/blob/master/Budget.png?raw=true)"
      ]
    },
    {
      "cell_type": "markdown",
      "metadata": {
        "id": "Yd55NDg2AIv0",
        "colab_type": "text"
      },
      "source": [
        "# Pitch Link"
      ]
    }
  ]
}