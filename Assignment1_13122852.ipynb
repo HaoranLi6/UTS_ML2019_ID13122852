{
  "nbformat": 4,
  "nbformat_minor": 0,
  "metadata": {
    "colab": {
      "name": "Assignment1_13122852.ipynb",
      "version": "0.3.2",
      "provenance": [],
      "include_colab_link": true
    },
    "kernelspec": {
      "name": "python3",
      "display_name": "Python 3"
    }
  },
  "cells": [
    {
      "cell_type": "markdown",
      "metadata": {
        "id": "view-in-github",
        "colab_type": "text"
      },
      "source": [
        "<a href=\"https://colab.research.google.com/github/HaoranLi6/UTS_ML2019_ID13122852/blob/master/Assignment1_13122852.ipynb\" target=\"_parent\"><img src=\"https://colab.research.google.com/assets/colab-badge.svg\" alt=\"Open In Colab\"/></a>"
      ]
    },
    {
      "cell_type": "markdown",
      "metadata": {
        "id": "DoHJq-vJ040v",
        "colab_type": "text"
      },
      "source": [
        "Student Name：Haoran Li\n",
        "\n",
        "Student ID: 13122852\n",
        "\n",
        "Github: https://github.com/HaoranLi6/UTS_ML2019_ID13122852"
      ]
    },
    {
      "cell_type": "markdown",
      "metadata": {
        "id": "21mAmNvmlDxL",
        "colab_type": "text"
      },
      "source": [
        "#Title\n",
        "BEL_97 Eigenfaces vs. Fisherfaces: Recognition Using Class Specific Linear Projection\n"
      ]
    },
    {
      "cell_type": "markdown",
      "metadata": {
        "id": "WA3jj3mMlTV_",
        "colab_type": "text"
      },
      "source": [
        "#Introduction\n",
        "This paper gives a brief introduction of the Eigenfaces vs. Fisherfaces: Recognition Using Class Specific Linear Projection written by Belhumeur et al. (1997). The literature mainly talked about a new algorithm that the researchers developed to reduce the error rate of face recognition under different conditions, such as variation lighting situation, wearing glasses or not and facial expressions. Also, this article will give an outline of the literature, which will include the background information, methodology, result and recommendation. The innovation, technique quality, application and presentation quality will be rated in this paper. Besides, some suggestions for further studies will also be discussed in this paper.\n",
        "\n"
      ]
    },
    {
      "cell_type": "markdown",
      "metadata": {
        "id": "rn4OYYuklBWP",
        "colab_type": "text"
      },
      "source": [
        "#Content \n",
        "This report came up with a new facial recognition algorithm which was based on a method called Fisher’s Linear Discriminant, and the primary goal of this study was to test the relative performance of the algorithm and compare of four different face recognition methods. Facial recognition remained problems because of some influences factors such as light directions, facial expression and glasses. This method is quite different from others because it is not sensitive to facial expression and light directions. Four patterns to solve the issue of facial recognition had been discussed in this research, which included Correlation, Eigenfaces, Linear Subspaces and Fisherfaces. \n",
        "\n",
        "The simplest method was correlation to classify the images. This method could recognize the image by its label of closest point and measure the distance of image space. The disadvantages of correlation included: first, it worded reliably under variation in lighting. Second, this approach was expensive. Third, a large amount of storage was required by this method. The second approach was Eigenfaces, and this method could reduce the schemes and maximize the scatter of all samples of the datasets. The research of Turk and Pentland(1991) also mentioned that this method could compare the characteristics of face to recognize a different person. The drawback of this approach was that it would collect unwanted information due to the between-class scatter. The third method was Linear Subspaces. Compared with the other two methods, Linear Subspaces exploit the observation that under shadowing conditions, the face images will lie in a 3D linear subspace. \n",
        "\n",
        "Two databases were used to do this research. The first one was a dataset from the Harvard Robotics Laboratory, and the second one was the database at Yale. Each dataset contained various images of faces labeled with people’s identity, and the test sets were the unlabeled facial images from the same persons. Above four methods were used to test these two datasets and compare the performance of different patterns. The result of this study shows that compared with the other three methods, the Fisherface method has lower error rates in testing those two datasets. \n",
        "\n",
        "For further studies, some limitations were mentioned in this paper. Some detection approaches needed to be chosen to support the algorithm of this research because sometimes the methods would break down under some special conditions. The performance of the method might degrade if the shadowing dominates; therefore, some approaches which can control or mask the shadow would be needed. Moreover, for further research, some interesting topics could be considered. For example, how to utilize the Fisherface method to deal with a large dataset and how to maintain a high quality of the performance of face recognition if the person can only be observed under one lighting condition.\n"
      ]
    },
    {
      "cell_type": "markdown",
      "metadata": {
        "id": "_UShqlV_lvZu",
        "colab_type": "text"
      },
      "source": [
        "#Innovation\n",
        "Although some face recognition methods had already been proposed, how to recognize the face under more extreme variations remaining a problem. The background of the work is that creating a algorithm to improve the face recognition quality when the lighting conditions and face expressions changing.\n",
        "\n",
        "This paper developed a new algorithm in the current situation, which was called Fisherface. The Fisher’s Linear Discriminant was first declared in 1936 by a researcher named Robert Fisher. Fisher (1936) declared that certain linear could better discriminate the population. Moreover, based on some research, the linear was approved that it could be separated due to the convex classes. Therefore, this approach was quite different from other approaches because it tried to “shape” the class to make the recognition more accurate. \n",
        "\n",
        "Three other facial recognition algorithms were selected to make comparisons of face recognition quality performances with Fisherface; those three methods include Correlation, Eigenfaces, and Linear Subspaces. Each of them tested the same datasets under the same controlled conditions. If the Fisherface performs well in every test, the new algorithm could conduct more in-depth research and extension. Besides, this report considered all possible illuminations conditions to minimize the influence of other factors, so the examining result was quite reliable to some extent.\n",
        "\n",
        "The result of this research showed that Fisherface seemed to the best algorithm among those four methods to solve face recognition problems under conditions of different of lighting and facial expression. In the test under different lighting conditions, Fisherface performed best with the lowest error rate while the linear subspace was the second. So in the test of glasses recognition, the error rate of Fisherface equaled to 5.3% which was much small than the error rate of other methods (52.6%). Developing Fisherface is an excellent innovation because this new algorithm could ignore other characteristics of the face to make a more accurate face recognition.\n"
      ]
    },
    {
      "cell_type": "markdown",
      "metadata": {
        "id": "rLQMNUDDl3Ja",
        "colab_type": "text"
      },
      "source": [
        "#Technical quality \n",
        "1.    The testing datasets were reliable, one was from the Harvard Robotics Laboratory, and the second one was the database at Yale. The images in the datasets were pre-processed before they started the research; the learning set was labeled while the test was unlabeled. This data pre-processing step standardized the data resources and made the data more searchable.\n",
        "\n",
        "2.    Rebort Fisher had already examined the new algorithm developed in this research in 1936. Other researchers such as Cheng et al. declared that the polar quantization of Fisherface could obtain the facial shapes to enhance the face recognition. Some patterns based on this algorithm were developed by Baker and Nayer. Cui even applied Fisherface in hands recognitions. Therefore, based on the previous studies, Fisherface could be used in the face recognition field, and this method was proved that it was usable and worth of researching.\n",
        "\n",
        "3.    This research controlled all variables under the same condition, which means that it minimized the influences of the irrelevant factors. \n",
        "\n",
        "4.    The sample size of the Harvard database is 330, while the sample size of the Yale database is 160. The sample size is not large enough, and a larger dataset may seem better for further research.\n",
        "\n",
        "In conclusion, the technical quality of this research was in high quality even though the sample size was not large enough. The new algorithm has already been proved to be useful by other researchers, and the data sources of this study were reliable. Besides, this report considered all possible illuminations conditions, which mean that the result was quite reliable.\n"
      ]
    },
    {
      "cell_type": "markdown",
      "metadata": {
        "id": "9MgTwW0GmJzC",
        "colab_type": "text"
      },
      "source": [
        "#Application and X-factor \n",
        "In my opinion, the application domain is appropriate for the proposed technique because the principle of the Fishface algorithm is that linear methods can reduce feature space by dimensionality reduction and simple classifiers. So if the approach could “shape” the image, the accuracy of face recognition would also be improved. This technique could be applied in chasing criminals; the reason is that this algorithm could even perform well in the variation of lighting and it will become possible for police to find criminal through monitors under bad lighting conditions.\n",
        "\n",
        "The datasets of Yale only contained 160 frontal faces images which were taken under ten different condition when the researchers were doing the lighting tests, and a sub dataset contained only 36 images of glasses recognition tests. The sample size is too small for getting a more accurate result; therefore, for further study, larger sample size will be recommended. \n",
        "\n",
        "Besides, not only concerning about the glasses, but makeups could also be considered as one factor that might influence the error rate of face recognition. For example, if a person wears heavy makeup, he or she might look totally different from the image he or she doesn’t wear makeup. So other factors which may affect the looks of a person should also be considered in further researches.\n",
        "\n",
        "The research of Liu et al. (2015) adopted deep learning methods such as CNNs, LNet and ANet to recognize face attribute in the wild, and the result showed that the framework had research value and state-of-the-art. Therefore, for further research, deep learning could be considered and adopted.\n",
        "Martínez and Kak(2001) did research to compare Linear Discriminant Analysis(LDA) with Principal Components Analysis(PCA), and they found that when that data set was small, PCA would perform better than LDA while in larger dataset LDA would be better. So in this paper, the dataset was not large enough, and further research should concern more about the influence of dataset size on the performance of chosen algorithms.\n"
      ]
    },
    {
      "cell_type": "markdown",
      "metadata": {
        "id": "GsKT06ComPaJ",
        "colab_type": "text"
      },
      "source": [
        "#Presentation \n",
        "The presentation quality of this paper is high because the structure of the article is clear and logically prove the innovation of the new algorithm that the researchers developed. And it is easy to follow the argument in the paper, due to the precise structure. Audiences could found their most exciting parts based on the subtitles. However, it could be more attractive if the researchers mentioned more about the previous relevant researches in this field. Because face recognition is not a new topic, many people have already done some researches in this area. If the authors could provide a more detailed literature review, it would be easier for the audience to have a clear understanding of this topic.\n"
      ]
    },
    {
      "cell_type": "markdown",
      "metadata": {
        "id": "GYBYcGVZmS6L",
        "colab_type": "text"
      },
      "source": [
        "#References\n",
        "Belhumeur, P.N., Hespanha, J.P. & Kriegman, D.J. 1997, 'Eigenfaces vs. Fisherfaces: Recognition using class specific linear projection', *IEEE Transactions on Pattern Analysis & Machine Intelligence*, no. 7, pp. 711-20.\n",
        "\n",
        "Fisher, R.A. 1936, 'The use of multiple measurements in taxonomic problems', *Annals of eugenics*, vol. 7, no. 2, pp. 179-88.\n",
        "\n",
        " Liu, Z., Luo, P., Wang, X. & Tang, X. 2015, 'Deep learning face attributes in the wild', *Proceedings of the IEEE international conference on computer vision*, pp. 3730-8.\n",
        "\n",
        "Martínez, A.M. & Kak, A.C. 2001, 'Pca versus lda', *IEEE transactions on pattern analysis and machine intelligence*, vol. 23, no. 2, pp. 228-33.\n",
        "\n",
        "Turk, M.A. & Pentland, A.P. 1991, 'Face recognition using eigenfaces', *Proceedings. 1991 IEEE Computer Society Conference on Computer Vision and Pattern Recognition*, IEEE, pp. 586-91.\n",
        "\n"
      ]
    }
  ]
}